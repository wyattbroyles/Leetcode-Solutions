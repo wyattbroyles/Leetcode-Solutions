{
 "cells": [
  {
   "cell_type": "markdown",
   "metadata": {},
   "source": [
    "Given a string s, reverse only all the vowels in the string and return it.\n",
    "\n",
    "The vowels are 'a', 'e', 'i', 'o', and 'u', and they can appear in both lower and upper cases, more than once."
   ]
  },
  {
   "cell_type": "code",
   "execution_count": null,
   "metadata": {},
   "outputs": [],
   "source": [
    "class Solution:\n",
    "    def reverseVowels(self, s: str) -> str:\n",
    "        vowels = set('aeiouAEIOU')\n",
    "        vowel_positions = []  # To store the positions of vowels in the string\n",
    "        vowel_chars = []  # To store the actual vowels found in the string\n",
    "\n",
    "        for i in range(len(s)):\n",
    "            if s[i] in vowels:\n",
    "                vowel_positions.append(i)\n",
    "                vowel_chars.append(s[i])\n",
    "\n",
    "        vowel_chars.reverse()\n",
    "        s_list = list(s)\n",
    "        \n",
    "        for i, pos in enumerate(vowel_positions):\n",
    "            s_list[pos] = vowel_chars[i]\n",
    "\n",
    "        return \"\".join(s_list)\n",
    "\n",
    "        # from this problem I learned that you cannot use a dictonary to solve this\n",
    "        # (to store vowels and their positions) because it stores the value with multiple keys to it\n",
    "        # and then when you try to reverse the keys it gives those multiple keys to a new value that shouldnt have it\n"
   ]
  }
 ],
 "metadata": {
  "language_info": {
   "name": "python"
  }
 },
 "nbformat": 4,
 "nbformat_minor": 2
}
