{
 "cells": [
  {
   "cell_type": "markdown",
   "metadata": {},
   "source": [
    "You have a long flowerbed in which some of the plots are planted, and some are not. However, flowers cannot be planted in adjacent plots.\n",
    "\n",
    "Given an integer array flowerbed containing 0's and 1's, where 0 means empty and 1 means not empty, and an integer n, return true if n new flowers can be planted in the flowerbed without violating the no-adjacent-flowers rule and false otherwise."
   ]
  },
  {
   "cell_type": "code",
   "execution_count": 4,
   "metadata": {},
   "outputs": [
    {
     "ename": "NameError",
     "evalue": "name 'List' is not defined",
     "output_type": "error",
     "traceback": [
      "\u001b[1;31m---------------------------------------------------------------------------\u001b[0m",
      "\u001b[1;31mNameError\u001b[0m                                 Traceback (most recent call last)",
      "Cell \u001b[1;32mIn[4], line 3\u001b[0m\n\u001b[0;32m      1\u001b[0m \u001b[38;5;66;03m#Initial solution\u001b[39;00m\n\u001b[1;32m----> 3\u001b[0m \u001b[38;5;28;01mdef\u001b[39;00m \u001b[38;5;21mcanPlaceFlowers\u001b[39m(flowerbed: \u001b[43mList\u001b[49m[\u001b[38;5;28mint\u001b[39m], n: \u001b[38;5;28mint\u001b[39m) \u001b[38;5;241m-\u001b[39m\u001b[38;5;241m>\u001b[39m \u001b[38;5;28mbool\u001b[39m:\n\u001b[0;32m      4\u001b[0m     count \u001b[38;5;241m=\u001b[39m \u001b[38;5;241m0\u001b[39m\n\u001b[0;32m      5\u001b[0m     \u001b[38;5;28;01mfor\u001b[39;00m i \u001b[38;5;129;01min\u001b[39;00m \u001b[38;5;28mrange\u001b[39m(\u001b[38;5;28mlen\u001b[39m(flowerbed)):\n",
      "\u001b[1;31mNameError\u001b[0m: name 'List' is not defined"
     ]
    }
   ],
   "source": [
    "#Initial solution\n",
    "\n",
    "class Solution:\n",
    "    def canPlaceFlowers(self, flowerbed: List[int], n: int) -> bool:\n",
    "        count = 0\n",
    "        for i in range(len(flowerbed)):\n",
    "            \n",
    "            if flowerbed[i] == 0:\n",
    "                if i == 0:\n",
    "                    if i == (len(flowerbed) - 1):\n",
    "                        flowerbed[i] == 1\n",
    "                        count += 1\n",
    "                    else: \n",
    "                        if flowerbed[i] == 0:\n",
    "                            if flowerbed[i+1] == 0:\n",
    "                                flowerbed[i] = 1\n",
    "                                count += 1\n",
    "                            else:\n",
    "                                continue\n",
    "                        else:\n",
    "                            continue\n",
    "                else:\n",
    "                    if i == (len(flowerbed) - 1):\n",
    "                        if flowerbed[i] == 0:\n",
    "                            if flowerbed[i-1] == 0:\n",
    "                                flowerbed[i] = 1\n",
    "                                count += 1\n",
    "                            else:\n",
    "                                continue\n",
    "                        else:\n",
    "                            continue\n",
    "                    else:\n",
    "                        if flowerbed[i+1] == 0:\n",
    "                            if flowerbed[i-1] == 0:\n",
    "                                flowerbed[i] = 1\n",
    "                                count += 1\n",
    "                            else:\n",
    "                                continue\n",
    "                        else:\n",
    "                            continue\n",
    "        if count < n:\n",
    "            return False\n",
    "        else: \n",
    "            return True\n",
    "        "
   ]
  }
 ],
 "metadata": {
  "kernelspec": {
   "display_name": "Python 3",
   "language": "python",
   "name": "python3"
  },
  "language_info": {
   "codemirror_mode": {
    "name": "ipython",
    "version": 3
   },
   "file_extension": ".py",
   "mimetype": "text/x-python",
   "name": "python",
   "nbconvert_exporter": "python",
   "pygments_lexer": "ipython3",
   "version": "3.10.5"
  }
 },
 "nbformat": 4,
 "nbformat_minor": 2
}
