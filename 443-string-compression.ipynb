{
 "cells": [
  {
   "cell_type": "markdown",
   "metadata": {},
   "source": [
    "Given an array of characters chars, compress it using the following algorithm:\n",
    "\n",
    "Begin with an empty string s. For each group of consecutive repeating characters in chars:\n",
    "\n",
    "If the group's length is 1, append the character to s.\n",
    "Otherwise, append the character followed by the group's length.\n",
    "The compressed string s should not be returned separately, but instead, be stored in the input character array chars. Note that group lengths that are 10 or longer will be split into multiple characters in chars.\n",
    "\n",
    "After you are done modifying the input array, return the new length of the array.\n",
    "\n",
    "You must write an algorithm that uses only constant extra space.\n",
    "\n",
    " \n",
    "\n",
    "Example 1:\n",
    "\n",
    "Input: chars = [\"a\",\"a\",\"b\",\"b\",\"c\",\"c\",\"c\"]\n",
    "Output: Return 6, and the first 6 characters of the input array should be: [\"a\",\"2\",\"b\",\"2\",\"c\",\"3\"]\n",
    "Explanation: The groups are \"aa\", \"bb\", and \"ccc\". This compresses to \"a2b2c3\".\n",
    "Example 2:\n",
    "\n",
    "Input: chars = [\"a\"]\n",
    "Output: Return 1, and the first character of the input array should be: [\"a\"]\n",
    "Explanation: The only group is \"a\", which remains uncompressed since it's a single character.\n",
    "Example 3:\n",
    "\n",
    "Input: chars = [\"a\",\"b\",\"b\",\"b\",\"b\",\"b\",\"b\",\"b\",\"b\",\"b\",\"b\",\"b\",\"b\"]\n",
    "Output: Return 4, and the first 4 characters of the input array should be: [\"a\",\"b\",\"1\",\"2\"].\n",
    "Explanation: The groups are \"a\" and \"bbbbbbbbbbbb\". This compresses to \"ab12\".\n",
    " \n",
    "\n",
    "Constraints:\n",
    "\n",
    "1 <= chars.length <= 2000\n",
    "chars[i] is a lowercase English letter, uppercase English letter, digit, or symbol."
   ]
  },
  {
   "cell_type": "code",
   "execution_count": null,
   "metadata": {},
   "outputs": [],
   "source": [
    "class Solution:\n",
    "    def compress(self, chars: List[str]) -> int:\n",
    "        if not chars:\n",
    "            return 0\n",
    "        \n",
    "        write_index = 0\n",
    "        count = 1\n",
    "        \n",
    "        for i in range(1, len(chars)):\n",
    "            if chars[i] == chars[i-1]:\n",
    "                count += 1\n",
    "            else:\n",
    "                chars[write_index] = chars[i-1]\n",
    "                write_index += 1\n",
    "                if count > 1:\n",
    "                    for digit in str(count):\n",
    "                        chars[write_index] = digit\n",
    "                        write_index += 1\n",
    "                count = 1\n",
    "        \n",
    "        # Handle the last group\n",
    "        chars[write_index] = chars[-1]\n",
    "        write_index += 1\n",
    "        if count > 1:\n",
    "            for digit in str(count):\n",
    "                chars[write_index] = digit\n",
    "                write_index += 1\n",
    "                \n",
    "        return write_index\n"
   ]
  }
 ],
 "metadata": {
  "language_info": {
   "name": "python"
  }
 },
 "nbformat": 4,
 "nbformat_minor": 2
}
