{
 "cells": [
  {
   "cell_type": "markdown",
   "metadata": {},
   "source": [
    "You are given two strings word1 and word2. Merge the strings by adding letters in alternating order, starting with word1. If a string is longer than the other, append the additional letters onto the end of the merged string.\n",
    "\n",
    "Return the merged string."
   ]
  },
  {
   "cell_type": "code",
   "execution_count": null,
   "metadata": {},
   "outputs": [],
   "source": [
    "class Solution:\n",
    "    def mergeAlternately(self, word1: str, word2: str) -> str:\n",
    "        letters1 = list(word1)\n",
    "        letters2 = list(word2)\n",
    "\n",
    "        merged = []\n",
    "        merged.reverse()\n",
    "        i, j = 0, 0\n",
    "\n",
    "        while i < len(letters1) or j < len(letters2):\n",
    "                if i < len(letters1):\n",
    "                    merged.append(letters1[i])\n",
    "                    i += 1\n",
    "                if j < len(letters2):\n",
    "                    merged.append(letters2[j])\n",
    "                    j += 1\n",
    "        return \"\".join(merged)"
   ]
  }
 ],
 "metadata": {
  "language_info": {
   "name": "python"
  }
 },
 "nbformat": 4,
 "nbformat_minor": 2
}
