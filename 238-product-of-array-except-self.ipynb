{
 "cells": [
  {
   "cell_type": "markdown",
   "metadata": {},
   "source": [
    "Given an integer array nums, return an array answer such that answer[i] is equal to the product of all the elements of nums except nums[i].\n",
    "\n",
    "The product of any prefix or suffix of nums is guaranteed to fit in a 32-bit integer.\n",
    "\n",
    "You must write an algorithm that runs in O(n) time and without using the division operation."
   ]
  },
  {
   "cell_type": "code",
   "execution_count": null,
   "metadata": {},
   "outputs": [],
   "source": [
    "#NOT A FULLY WORKING SOLUTION\n",
    "\n",
    "class Solution:\n",
    "    def productExceptSelf(self, nums: List[int]) -> List[int]:\n",
    "        tempNum = 0\n",
    "        tempIndex = 0\n",
    "        tempAns = 1\n",
    "        ans = []\n",
    "        for i in range(len(nums)):\n",
    "            tempNum = nums[i]\n",
    "            tempIndex = i\n",
    "            del nums[i]\n",
    "            for num in nums:\n",
    "                tempAns *= num\n",
    "            ans.append(tempAns)\n",
    "            tempAns = 1\n",
    "            nums.insert(tempIndex, tempNum)\n",
    "        return ans"
   ]
  }
 ],
 "metadata": {
  "language_info": {
   "name": "python"
  }
 },
 "nbformat": 4,
 "nbformat_minor": 2
}
